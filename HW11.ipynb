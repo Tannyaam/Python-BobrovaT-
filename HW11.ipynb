{
 "cells": [
  {
   "cell_type": "markdown",
   "id": "f990463c",
   "metadata": {},
   "source": [
    "f(x) = -12x^4*sin(cos(x)) - 18x^3+5x^2 + 10x - 30\n",
    "\n",
    "1. Определить корни\n",
    "2. Найти интервалы, на которых функция возрастает\n",
    "3. Найти интервалы, на которых функция убывает\n",
    "4. Построить график\n",
    "5. Вычислить вершину\n",
    "6. Определить промежутки, на котором f > 0\n",
    "7. Определить промежутки, на котором f < 0"
   ]
  },
  {
   "cell_type": "markdown",
   "id": "f14aaa5c",
   "metadata": {},
   "source": [
    "## Определить корни"
   ]
  },
  {
   "cell_type": "code",
   "execution_count": 18,
   "id": "2f212029",
   "metadata": {},
   "outputs": [
    {
     "data": {
      "text/latex": [
       "$\\displaystyle \\left\\{x\\; \\middle|\\; x \\in \\mathbb{R} \\wedge - 12 x^{4} \\sin{\\left(\\cos{\\left(x \\right)} \\right)} - 18 x^{3} + 5 x^{2} + 10 x - 30 = 0 \\right\\}$"
      ],
      "text/plain": [
       "ConditionSet(x, Eq(-12*x**4*sin(cos(x)) - 18*x**3 + 5*x**2 + 10*x - 30, 0), Reals)"
      ]
     },
     "execution_count": 18,
     "metadata": {},
     "output_type": "execute_result"
    }
   ],
   "source": [
    "from sympy import *\n",
    "from sympy import symbols, solveset, sin, cos\n",
    "\n",
    "x = sympy.symbols('x')\n",
    "y = sympy.solveset((-12*x**4*sin(cos(x)) - 18*x**3+5*x**2 + 10*x - 30), x, domain=Reals)\n",
    "y"
   ]
  },
  {
   "cell_type": "markdown",
   "id": "6b0ffe6b",
   "metadata": {},
   "source": [
    "## Найти интервалы, на которых функция возрастает"
   ]
  },
  {
   "cell_type": "code",
   "execution_count": null,
   "id": "92a5ae22",
   "metadata": {},
   "outputs": [],
   "source": []
  },
  {
   "cell_type": "markdown",
   "id": "136ebbe9",
   "metadata": {},
   "source": [
    "## Найти интервалы, на которых функция убывает"
   ]
  },
  {
   "cell_type": "code",
   "execution_count": null,
   "id": "2e623138",
   "metadata": {},
   "outputs": [],
   "source": []
  },
  {
   "cell_type": "markdown",
   "id": "5a76c48e",
   "metadata": {},
   "source": [
    "## Построить график"
   ]
  },
  {
   "cell_type": "code",
   "execution_count": 11,
   "id": "e66bbbde",
   "metadata": {},
   "outputs": [
    {
     "data": {
      "image/png": "[encoded data removed]",
      "text/plain": [
       "<Figure size 864x864 with 1 Axes>"
      ]
     },
     "metadata": {
      "needs_background": "light"
     },
     "output_type": "display_data"
    }
   ],
   "source": [
    "import matplotlib.pyplot as plt\n",
    "\n",
    "x = [(-12*x**4*sin(cos(x)) - 18*x**3+5*x**2 + 10*x - 30) for x in range(-50, 51)]\n",
    "y = [y for y in range(-50, 51)]\n",
    "\n",
    "fig = plt.figure()\n",
    "ax_3 = fig.add_subplot(2, 2, 4)\n",
    "\n",
    "ax_3.plot(y, x)\n",
    "ax_3.grid(axis = 'both')\n",
    "ax_3.set\n",
    "fig.set_figwidth(12)\n",
    "fig.set_figheight(12)\n",
    "\n",
    "plt.show()"
   ]
  },
  {
   "cell_type": "markdown",
   "id": "ea1afb36",
   "metadata": {},
   "source": [
    "## Вычислить вершину"
   ]
  },
  {
   "cell_type": "code",
   "execution_count": 25,
   "id": "7f08b663",
   "metadata": {},
   "outputs": [
    {
     "data": {
      "text/latex": [
       "$\\displaystyle 12 x^{4} \\sin{\\left(x \\right)} \\cos{\\left(\\cos{\\left(x \\right)} \\right)} - 48 x^{3} \\sin{\\left(\\cos{\\left(x \\right)} \\right)} - 54 x^{2} + 10 x + 10$"
      ],
      "text/plain": [
       "12*x**4*sin(x)*cos(cos(x)) - 48*x**3*sin(cos(x)) - 54*x**2 + 10*x + 10"
      ]
     },
     "execution_count": 25,
     "metadata": {},
     "output_type": "execute_result"
    }
   ],
   "source": [
    "y = -12*x**4*sin(cos(x)) - 18*x**3+5*x**2 + 10*x - 30\n",
    "yprime = y.diff(x)\n",
    "yprime\n",
    "sympy.solveset((-12*x**4*sin(cos(x)) - 18*x**3+5*x**2 + 10*x - 30), x, domain=Reals)"
   ]
  },
  {
   "cell_type": "markdown",
   "id": "1908a631",
   "metadata": {},
   "source": [
    "## Определить промежутки, на котором f > 0"
   ]
  },
  {
   "cell_type": "code",
   "execution_count": null,
   "id": "84b1e660",
   "metadata": {},
   "outputs": [],
   "source": []
  },
  {
   "cell_type": "markdown",
   "id": "1ef3f1e5",
   "metadata": {},
   "source": [
    "## Определить промежутки, на котором f < 0"
   ]
  },
  {
   "cell_type": "code",
   "execution_count": null,
   "id": "62164e6d",
   "metadata": {},
   "outputs": [],
   "source": []
  }
 ],
 "metadata": {
  "kernelspec": {
   "display_name": "Python 3 (ipykernel)",
   "language": "python",
   "name": "python3"
  },
  "language_info": {
   "codemirror_mode": {
    "name": "ipython",
    "version": 3
   },
   "file_extension": ".py",
   "mimetype": "text/x-python",
   "name": "python",
   "nbconvert_exporter": "python",
   "pygments_lexer": "ipython3",
   "version": "3.9.12"
  }
 },
 "nbformat": 4,
 "nbformat_minor": 5
}
